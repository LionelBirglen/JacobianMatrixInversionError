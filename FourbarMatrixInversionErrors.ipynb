{
 "cells": [
  {
   "cell_type": "code",
   "execution_count": 43,
   "id": "demonstrated-surfing",
   "metadata": {},
   "outputs": [],
   "source": [
    "using LinearAlgebra, Plots, Statistics"
   ]
  },
  {
   "cell_type": "code",
   "execution_count": 45,
   "id": "differential-bronze",
   "metadata": {
    "scrolled": true
   },
   "outputs": [
    {
     "data": {
      "text/plain": [
       "\"/Users/joseph/Downloads/InversionErrors.svg\""
      ]
     },
     "execution_count": 45,
     "metadata": {},
     "output_type": "execute_result"
    }
   ],
   "source": [
    "Λ = [0 1 0;\n",
    "     0 0 1;\n",
    "     1 0 0]\n",
    "E = [0 -1;1 0]\n",
    "x = [1;0]\n",
    "y = [0;1]\n",
    "\n",
    "ξA = [1;0;0]\n",
    "function ζ(r,s)\n",
    "    return [s;s'*E*r]\n",
    "end\n",
    "\n",
    "Pi = 3.1415926535\n",
    "\n",
    "a = 1\n",
    "b = 2\n",
    "c = 1.5\n",
    "d = 2.5\n",
    "\n",
    "ε = 5Pi/180\n",
    "N = 100\n",
    "\n",
    "θA = range(Pi-ε,Pi+ε,length=N)\n",
    "    Ab = 2b*(a*cos.(θA).-d)\n",
    "    Bb = 2b*a*sin.(θA)\n",
    "    Cb = c^2 .-a^2 .-b^2 .-d^2 .+2a*d*cos.(θA)\n",
    "θB = atan.(Bb,Ab)-acos.(Cb./sqrt.(Ab.^2+Bb.^2));\n",
    "ptA = zeros(N,2)\n",
    "ptB = ptA + a*[cos.(θA) sin.(θA)]\n",
    "ptD = [d*ones(N) zeros(N)]\n",
    "ptC = ptB + b*[cos.(θB) sin.(θB)]\n",
    "\n",
    "\n",
    "E_inv=zeros(N)\n",
    "E_svd=zeros(N)\n",
    "E_K=zeros(N)\n",
    "\n",
    "for i in 1:N\n",
    "    ζ1 = ζ(ptD[i,:]-ptA[i,:],x)\n",
    "    ζ2 = ζ(ptD[i,:]-ptA[i,:],y)\n",
    "    rBC = (ptC[i,:]-ptB[i,:])\n",
    "    sBC = rBC/norm(rBC)\n",
    "    ζ3 = ζ(ptB[i,:]-ptA[i,:],sBC)\n",
    "    \n",
    "    A = [ζ1 ζ2 ζ3]'*Λ\n",
    "    B = [0;0;ζ3'*Λ*ξA]\n",
    "    K = (ζ1×ζ2)*ζ3'/((ζ1×ζ2)'*ζ3)\n",
    "    \n",
    "    B_inv = A*inv(A)*B\n",
    "    e_inv = B_inv-B\n",
    "    E_inv[i] = norm(e_inv[2:3])\n",
    "    \n",
    "    U, S, V = svd(A);\n",
    "    C = (U'*B)./S;\n",
    "    B_svd = A*(V * C)\n",
    "    e_svd = B_svd-B\n",
    "    E_svd[i] = norm(e_svd[2:3])\n",
    "    \n",
    "    e_K = A*(Λ'*K*Λ*ξA)-B\n",
    "    E_K[i] = norm(e_K[2:3])\n",
    "    \n",
    "\n",
    "    \n",
    "    \n",
    "end\n",
    "plot(θA,E_inv,label=\"E_inv\")\n",
    "plot!(θA,E_svd,label=\"E_svd\")\n",
    "plot!(θA,E_K,label=\"E_K\")"
   ]
  },
  {
   "cell_type": "code",
   "execution_count": 46,
   "id": "aggregate-hartford",
   "metadata": {},
   "outputs": [
    {
     "data": {
      "text/plain": [
       "1.0"
      ]
     },
     "execution_count": 46,
     "metadata": {},
     "output_type": "execute_result"
    }
   ],
   "source": [
    "median(E_K)/median(E_K) "
   ]
  },
  {
   "cell_type": "code",
   "execution_count": 47,
   "id": "51dd4b97",
   "metadata": {},
   "outputs": [
    {
     "data": {
      "text/plain": [
       "4.0"
      ]
     },
     "execution_count": 47,
     "metadata": {},
     "output_type": "execute_result"
    }
   ],
   "source": [
    "median(E_inv)/median(E_K)"
   ]
  },
  {
   "cell_type": "code",
   "execution_count": 48,
   "id": "0642bc22",
   "metadata": {},
   "outputs": [
    {
     "data": {
      "text/plain": [
       "264.1248557725876"
      ]
     },
     "execution_count": 48,
     "metadata": {},
     "output_type": "execute_result"
    }
   ],
   "source": [
    "median(E_svd)/median(E_K) "
   ]
  }
 ],
 "metadata": {
  "@webio": {
   "lastCommId": null,
   "lastKernelId": null
  },
  "kernelspec": {
   "display_name": "Julia 1.7.1",
   "language": "julia",
   "name": "julia-1.7"
  },
  "language_info": {
   "file_extension": ".jl",
   "mimetype": "application/julia",
   "name": "julia",
   "version": "1.7.1"
  }
 },
 "nbformat": 4,
 "nbformat_minor": 5
}
